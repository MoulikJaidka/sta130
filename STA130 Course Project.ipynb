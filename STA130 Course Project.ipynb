{
 "cells": [
  {
   "cell_type": "markdown",
   "id": "1cd161e1",
   "metadata": {},
   "source": [
    "***STA130 COURSE PROJECT***\n",
    "\n",
    " \tQ1. Is there a relationship between age and the number of close friends individuals report having?\n",
    "\n",
    "***Variables***: \n",
    "\n",
    "DEMO_age - Continuous variable. This variable represents the age of the survey respondent. It is a demographic indicator. The data for this variable helps us to record the age of the individuals in question. \n",
    "\n",
    "CONNECTION_social_num_close_friends - Discrete variable. This variable captures the number of close friends an individual reports having. This indicator relates to social connection and network size. It is significant in understanding individuals’ social landscapes. \n",
    "\n",
    "A bar chart can be used to display the average number of close friends for different age groups. Each bar would represent an age group (e.g., 18-25, 26-35, etc.), and the height of the bar would correspond to the average number of close friends within that group. This visualization allows for easy comparison of average friendship counts across age ranges.\n",
    "\n",
    "***Analysis*** - Correlation can be used for this. Since age is continuous, we can assess the correlation between age and the number of close friends. Correlation would be appropriate here because the number of close friends is ordinal. This analysis will tell us the strength and direction (positive or negative) of the association. A positive correlation would indicate that as age increases, the number of close friends tends to increase as well. A negative correlation would suggest the opposite.\n",
    "\n",
    "***Hypothesis*** - There is a significant negative correlation between age and the number of close friends an individual reports having. This hypothesis suggests that as individuals get older, they tend to have fewer close friends. This is supported by several factors, such as: \n",
    "As people age, they move, start families, or experience the loss of loved ones. These transitions disrupt existing social networks and make it more challenging to maintain close friendships. With increasing age, socializing also becomes less.\n",
    "\n",
    "\n",
    "Q2.  Is there a correlation between time spent on social media per day and life satisfaction?\n",
    "\n",
    "***Variables***:\n",
    "\n",
    "CONNECTION_social_media_time_per_day - Continuous variable. This variable measures the average amount of time an individual spends actively using social networking websites per day over the past week. This indicator provides insight into individuals' engagement with online social platforms.\n",
    "\n",
    "WELLNESS_satisfaction - Continuous variable. This variable likely encompasses several indicators related to an individual's overall well-being and satisfaction with various aspects of their life. This variable will be used to tell us how much an individual is satisfied with their life.\n",
    "\n",
    "A box plot can be used to visualize this data. For example, we could create groups like \"low social media use,\" \"moderate social media use,\" and \"high social media use\" by dividing CONNECTION_social_media_time_per_day into terciles or quartiles. This allows us to visually assess if there are differences in the median, spread, and potential outliers of life satisfaction scores across these groups.\n",
    "\n",
    "***Analysis*** - Correlation analysis helps determine the strength and direction of the association between two continuous variables. It quantifies how changes in one variable relate to changes in another. A positive correlation would indicate that as CONNECTION_social_media_time_per_day increases, WELLNESS_satisfaction also increases. A negative correlation would indicate the opposite.\n",
    "\n",
    "***Hypothesis*** - There will be a statistically significant negative correlation between CONNECTION_social_media_time_per_day and WELLNESS_life_satisfaction. This hypothesis aligns with concerns frequently raised in discussions about social media's impact on well-being. Excessive social media use is often linked to increased social comparisons, reduced real-world interactions, and increased exposure to negative content.\n",
    "\n",
    "Q3. Is there a relationship between the size of a company and employees’ feelings of connection with their coworkers?\n",
    "\n",
    "***Variables***: \n",
    "\n",
    "WORK_company_size - This is a discrete variable. This variable aims to capture the approximate number of employees working for the company where the respondent is employed.\n",
    "\n",
    "WORK_connected - This is an ordinal variable. Here, individuals choose from a range of options to choose how connected they feel to their colleagues at work. \n",
    "\n",
    "A bar chart can be used to display this data. We can group employees based on company size categories (e.g., small, medium, large) and then compare the average feeling of connection (WORK_connected) for each group. The height of each bar would represent the average level of connection. A bar chart makes it easy to visually inspect potential trends. For instance, we can quickly see if there's a pattern of increasing or decreasing connection as company size changes.\n",
    "\n",
    "\n",
    "***Analysis*** - For this, p-values can be used. The null hypothesis is that there is NO difference in the average level of connection (WORK_connected) between employees in different company size groups. The alternate hypothesis is that there is a difference in the average level of connection (WORK_connected) between employees in different company size groups.\n",
    "\n",
    "***Hypothesis*** - Hypothesis 1: Negative Correlation: Larger companies are associated with lower levels of employee connection.\n",
    "Hypothesis 2: Positive Correlation: Larger companies are associated with higher levels of employee connection.\n",
    "Suppose we conducted a hypothesis test and obtained a p-value of 0.02. This means that if there were truly no difference in connection between company size groups, there's only a 2% chance of observing the data we collected (or more extreme differences). Since the p-value is less than 0.05, we would reject the null hypothesis, suggesting that company size is associated with employee connection.\n",
    "\n",
    "\n"
   ]
  },
  {
   "cell_type": "code",
   "execution_count": null,
   "id": "56042e36",
   "metadata": {},
   "outputs": [],
   "source": []
  }
 ],
 "metadata": {
  "kernelspec": {
   "display_name": "Python 3 (ipykernel)",
   "language": "python",
   "name": "python3"
  },
  "language_info": {
   "codemirror_mode": {
    "name": "ipython",
    "version": 3
   },
   "file_extension": ".py",
   "mimetype": "text/x-python",
   "name": "python",
   "nbconvert_exporter": "python",
   "pygments_lexer": "ipython3",
   "version": "3.11.6"
  }
 },
 "nbformat": 4,
 "nbformat_minor": 5
}
